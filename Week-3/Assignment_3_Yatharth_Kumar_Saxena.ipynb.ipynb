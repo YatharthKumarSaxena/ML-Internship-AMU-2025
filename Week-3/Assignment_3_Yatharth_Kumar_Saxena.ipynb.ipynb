{
 "cells": [
  {
   "cell_type": "code",
   "execution_count": 1,
   "id": "d946e466",
   "metadata": {},
   "outputs": [],
   "source": [
    "# Submitted by Yatharth Kumar Saxena\n",
    "\n",
    "# Importing essential libraries for data manipulation and visualization\n",
    "import pandas as pd\n",
    "import numpy as np\n",
    "import matplotlib.pyplot as plt\n",
    "import seaborn as sns"
   ]
  },
  {
   "cell_type": "code",
   "execution_count": 2,
   "id": "245f74dd",
   "metadata": {},
   "outputs": [],
   "source": [
    "# Loading the dataset into a working dataframe\n",
    "df= pd.read_csv('Yatharth Kumar Saxena - ML_Internship_dataset_One.csv')\n",
    "# Keeping a raw untouched copy for backup/reference\n",
    "raw_df= pd.read_csv('Yatharth Kumar Saxena - ML_Internship_dataset_One.csv')"
   ]
  },
  {
   "cell_type": "code",
   "execution_count": 3,
   "id": "7fbaac87",
   "metadata": {},
   "outputs": [
    {
     "name": "stdout",
     "output_type": "stream",
     "text": [
      "<class 'pandas.core.frame.DataFrame'>\n",
      "RangeIndex: 5000 entries, 0 to 4999\n",
      "Data columns (total 14 columns):\n",
      " #   Column              Non-Null Count  Dtype  \n",
      "---  ------              --------------  -----  \n",
      " 0   Legacy_Customer_ID  482 non-null    object \n",
      " 1   Age                 4491 non-null   float64\n",
      " 2   Employment_Type     4488 non-null   object \n",
      " 3   Education_Level     3950 non-null   object \n",
      " 4   Annual_Income($)    5000 non-null   float64\n",
      " 5   Credit_Score        4661 non-null   float64\n",
      " 6   Region              5000 non-null   object \n",
      " 7   Account_Type        5000 non-null   object \n",
      " 8   Customer_Feedback   5000 non-null   object \n",
      " 9   CLV_Score           4755 non-null   float64\n",
      " 10  Complaint_Count     5000 non-null   int64  \n",
      " 11  Contact_Preference  5000 non-null   object \n",
      " 12  Subscription_Tier   5000 non-null   object \n",
      " 13  Target              5000 non-null   int64  \n",
      "dtypes: float64(4), int64(2), object(8)\n",
      "memory usage: 547.0+ KB\n"
     ]
    }
   ],
   "source": [
    "df.info()"
   ]
  },
  {
   "cell_type": "code",
   "execution_count": 4,
   "id": "d691fd80",
   "metadata": {},
   "outputs": [
    {
     "data": {
      "text/html": [
       "<div>\n",
       "<style scoped>\n",
       "    .dataframe tbody tr th:only-of-type {\n",
       "        vertical-align: middle;\n",
       "    }\n",
       "\n",
       "    .dataframe tbody tr th {\n",
       "        vertical-align: top;\n",
       "    }\n",
       "\n",
       "    .dataframe thead th {\n",
       "        text-align: right;\n",
       "    }\n",
       "</style>\n",
       "<table border=\"1\" class=\"dataframe\">\n",
       "  <thead>\n",
       "    <tr style=\"text-align: right;\">\n",
       "      <th></th>\n",
       "      <th>Age</th>\n",
       "      <th>Annual_Income($)</th>\n",
       "      <th>Credit_Score</th>\n",
       "      <th>CLV_Score</th>\n",
       "      <th>Complaint_Count</th>\n",
       "      <th>Target</th>\n",
       "    </tr>\n",
       "  </thead>\n",
       "  <tbody>\n",
       "    <tr>\n",
       "      <th>count</th>\n",
       "      <td>4491.000000</td>\n",
       "      <td>5000.000000</td>\n",
       "      <td>4661.000000</td>\n",
       "      <td>4755.000000</td>\n",
       "      <td>5000.000000</td>\n",
       "      <td>5000.000000</td>\n",
       "    </tr>\n",
       "    <tr>\n",
       "      <th>mean</th>\n",
       "      <td>41.256068</td>\n",
       "      <td>81796.280854</td>\n",
       "      <td>719.484958</td>\n",
       "      <td>28.168538</td>\n",
       "      <td>0.710400</td>\n",
       "      <td>0.400200</td>\n",
       "    </tr>\n",
       "    <tr>\n",
       "      <th>std</th>\n",
       "      <td>10.478119</td>\n",
       "      <td>82221.627407</td>\n",
       "      <td>49.463416</td>\n",
       "      <td>15.800728</td>\n",
       "      <td>0.841828</td>\n",
       "      <td>0.489988</td>\n",
       "    </tr>\n",
       "    <tr>\n",
       "      <th>min</th>\n",
       "      <td>28.000000</td>\n",
       "      <td>9.370000</td>\n",
       "      <td>545.247739</td>\n",
       "      <td>0.500000</td>\n",
       "      <td>0.000000</td>\n",
       "      <td>0.000000</td>\n",
       "    </tr>\n",
       "    <tr>\n",
       "      <th>25%</th>\n",
       "      <td>35.000000</td>\n",
       "      <td>24130.080000</td>\n",
       "      <td>685.010863</td>\n",
       "      <td>16.000000</td>\n",
       "      <td>0.000000</td>\n",
       "      <td>0.000000</td>\n",
       "    </tr>\n",
       "    <tr>\n",
       "      <th>50%</th>\n",
       "      <td>42.000000</td>\n",
       "      <td>57397.375000</td>\n",
       "      <td>719.979040</td>\n",
       "      <td>25.900000</td>\n",
       "      <td>1.000000</td>\n",
       "      <td>0.000000</td>\n",
       "    </tr>\n",
       "    <tr>\n",
       "      <th>75%</th>\n",
       "      <td>50.000000</td>\n",
       "      <td>111973.545000</td>\n",
       "      <td>752.797781</td>\n",
       "      <td>38.300000</td>\n",
       "      <td>1.000000</td>\n",
       "      <td>1.000000</td>\n",
       "    </tr>\n",
       "    <tr>\n",
       "      <th>max</th>\n",
       "      <td>61.000000</td>\n",
       "      <td>699111.240000</td>\n",
       "      <td>904.581225</td>\n",
       "      <td>86.000000</td>\n",
       "      <td>6.000000</td>\n",
       "      <td>1.000000</td>\n",
       "    </tr>\n",
       "  </tbody>\n",
       "</table>\n",
       "</div>"
      ],
      "text/plain": [
       "               Age  Annual_Income($)  Credit_Score    CLV_Score  \\\n",
       "count  4491.000000       5000.000000   4661.000000  4755.000000   \n",
       "mean     41.256068      81796.280854    719.484958    28.168538   \n",
       "std      10.478119      82221.627407     49.463416    15.800728   \n",
       "min      28.000000          9.370000    545.247739     0.500000   \n",
       "25%      35.000000      24130.080000    685.010863    16.000000   \n",
       "50%      42.000000      57397.375000    719.979040    25.900000   \n",
       "75%      50.000000     111973.545000    752.797781    38.300000   \n",
       "max      61.000000     699111.240000    904.581225    86.000000   \n",
       "\n",
       "       Complaint_Count       Target  \n",
       "count      5000.000000  5000.000000  \n",
       "mean          0.710400     0.400200  \n",
       "std           0.841828     0.489988  \n",
       "min           0.000000     0.000000  \n",
       "25%           0.000000     0.000000  \n",
       "50%           1.000000     0.000000  \n",
       "75%           1.000000     1.000000  \n",
       "max           6.000000     1.000000  "
      ]
     },
     "execution_count": 4,
     "metadata": {},
     "output_type": "execute_result"
    }
   ],
   "source": [
    "# Generating summary statistics for numerical columns\n",
    "df.describe()"
   ]
  },
  {
   "cell_type": "code",
   "execution_count": 5,
   "id": "cc5e7f26",
   "metadata": {},
   "outputs": [
    {
     "data": {
      "text/plain": [
       "(5000, 14)"
      ]
     },
     "execution_count": 5,
     "metadata": {},
     "output_type": "execute_result"
    }
   ],
   "source": [
    "# Checking the number of rows and columns in the dataset\n",
    "df.shape"
   ]
  },
  {
   "cell_type": "code",
   "execution_count": 6,
   "metadata": {},
   "outputs": [
    {
     "data": {
      "text/html": [
       "<div>\n",
       "<style scoped>\n",
       "    .dataframe tbody tr th:only-of-type {\n",
       "        vertical-align: middle;\n",
       "    }\n",
       "\n",
       "    .dataframe tbody tr th {\n",
       "        vertical-align: top;\n",
       "    }\n",
       "\n",
       "    .dataframe thead th {\n",
       "        text-align: right;\n",
       "    }\n",
       "</style>\n",
       "<table border=\"1\" class=\"dataframe\">\n",
       "  <thead>\n",
       "    <tr style=\"text-align: right;\">\n",
       "      <th></th>\n",
       "      <th>Legacy_Customer_ID</th>\n",
       "      <th>Age</th>\n",
       "      <th>Employment_Type</th>\n",
       "      <th>Education_Level</th>\n",
       "      <th>Annual_Income($)</th>\n",
       "      <th>Credit_Score</th>\n",
       "      <th>Region</th>\n",
       "      <th>Account_Type</th>\n",
       "      <th>Customer_Feedback</th>\n",
       "      <th>CLV_Score</th>\n",
       "      <th>Complaint_Count</th>\n",
       "      <th>Contact_Preference</th>\n",
       "      <th>Subscription_Tier</th>\n",
       "      <th>Target</th>\n",
       "    </tr>\n",
       "  </thead>\n",
       "  <tbody>\n",
       "    <tr>\n",
       "      <th>0</th>\n",
       "      <td>NaN</td>\n",
       "      <td>35.0</td>\n",
       "      <td>Self-Employed</td>\n",
       "      <td>Master</td>\n",
       "      <td>8238.15</td>\n",
       "      <td>NaN</td>\n",
       "      <td>Southwest</td>\n",
       "      <td>Checking</td>\n",
       "      <td>Excellent customer service experience</td>\n",
       "      <td>17.1</td>\n",
       "      <td>0</td>\n",
       "      <td>Text</td>\n",
       "      <td>Basic</td>\n",
       "      <td>0</td>\n",
       "    </tr>\n",
       "    <tr>\n",
       "      <th>1</th>\n",
       "      <td>NaN</td>\n",
       "      <td>35.0</td>\n",
       "      <td>Freelancer</td>\n",
       "      <td>High School</td>\n",
       "      <td>5327.59</td>\n",
       "      <td>827.015439</td>\n",
       "      <td>Midwest</td>\n",
       "      <td>Checking</td>\n",
       "      <td>Loyalty program privileges are profitable</td>\n",
       "      <td>8.6</td>\n",
       "      <td>0</td>\n",
       "      <td>Phone</td>\n",
       "      <td>Basic</td>\n",
       "      <td>1</td>\n",
       "    </tr>\n",
       "    <tr>\n",
       "      <th>2</th>\n",
       "      <td>NaN</td>\n",
       "      <td>28.0</td>\n",
       "      <td>Self-Employed</td>\n",
       "      <td>Associate</td>\n",
       "      <td>78780.20</td>\n",
       "      <td>803.283954</td>\n",
       "      <td>West Coast</td>\n",
       "      <td>Checking</td>\n",
       "      <td>Return process was difficult</td>\n",
       "      <td>30.2</td>\n",
       "      <td>1</td>\n",
       "      <td>Email</td>\n",
       "      <td>Basic</td>\n",
       "      <td>1</td>\n",
       "    </tr>\n",
       "    <tr>\n",
       "      <th>3</th>\n",
       "      <td>NaN</td>\n",
       "      <td>50.0</td>\n",
       "      <td>Salaried</td>\n",
       "      <td>Bachelor</td>\n",
       "      <td>287709.86</td>\n",
       "      <td>756.546772</td>\n",
       "      <td>Midwest</td>\n",
       "      <td>Savings</td>\n",
       "      <td>Delivery was deferred by 3 days</td>\n",
       "      <td>29.1</td>\n",
       "      <td>0</td>\n",
       "      <td>Email</td>\n",
       "      <td>Enterprise</td>\n",
       "      <td>0</td>\n",
       "    </tr>\n",
       "    <tr>\n",
       "      <th>4</th>\n",
       "      <td>NaN</td>\n",
       "      <td>42.0</td>\n",
       "      <td>Salaried</td>\n",
       "      <td>Associate</td>\n",
       "      <td>59381.40</td>\n",
       "      <td>702.846204</td>\n",
       "      <td>Midwest</td>\n",
       "      <td>Savings</td>\n",
       "      <td>Highly recommend this service to colleagues</td>\n",
       "      <td>48.7</td>\n",
       "      <td>0</td>\n",
       "      <td>Email</td>\n",
       "      <td>Premium</td>\n",
       "      <td>0</td>\n",
       "    </tr>\n",
       "  </tbody>\n",
       "</table>\n",
       "</div>"
      ],
      "text/plain": [
       "  Legacy_Customer_ID   Age Employment_Type Education_Level  Annual_Income($)  \\\n",
       "0                NaN  35.0   Self-Employed          Master           8238.15   \n",
       "1                NaN  35.0      Freelancer     High School           5327.59   \n",
       "2                NaN  28.0   Self-Employed       Associate          78780.20   \n",
       "3                NaN  50.0        Salaried        Bachelor         287709.86   \n",
       "4                NaN  42.0        Salaried       Associate          59381.40   \n",
       "\n",
       "   Credit_Score      Region Account_Type  \\\n",
       "0           NaN   Southwest     Checking   \n",
       "1    827.015439     Midwest     Checking   \n",
       "2    803.283954  West Coast     Checking   \n",
       "3    756.546772     Midwest      Savings   \n",
       "4    702.846204     Midwest      Savings   \n",
       "\n",
       "                             Customer_Feedback  CLV_Score  Complaint_Count  \\\n",
       "0        Excellent customer service experience       17.1                0   \n",
       "1    Loyalty program privileges are profitable        8.6                0   \n",
       "2                 Return process was difficult       30.2                1   \n",
       "3              Delivery was deferred by 3 days       29.1                0   \n",
       "4  Highly recommend this service to colleagues       48.7                0   \n",
       "\n",
       "  Contact_Preference Subscription_Tier  Target  \n",
       "0               Text             Basic       0  \n",
       "1              Phone             Basic       1  \n",
       "2              Email             Basic       1  \n",
       "3              Email        Enterprise       0  \n",
       "4              Email           Premium       0  "
      ]
     },
     "execution_count": 6,
     "metadata": {},
     "output_type": "execute_result"
    }
   ],
   "source": [
    "# Displaying the first few rows to get an initial look at the data\n",
    "df.head()"
   ]
  },
  {
   "cell_type": "code",
   "execution_count": 7,
   "id": "6e526e71",
   "metadata": {},
   "outputs": [
    {
     "data": {
      "text/plain": [
       "Legacy_Customer_ID    4518\n",
       "Age                    509\n",
       "Employment_Type        512\n",
       "Education_Level       1050\n",
       "Annual_Income($)         0\n",
       "Credit_Score           339\n",
       "Region                   0\n",
       "Account_Type             0\n",
       "Customer_Feedback        0\n",
       "CLV_Score              245\n",
       "Complaint_Count          0\n",
       "Contact_Preference       0\n",
       "Subscription_Tier        0\n",
       "Target                   0\n",
       "dtype: int64"
      ]
     },
     "execution_count": 7,
     "metadata": {},
     "output_type": "execute_result"
    }
   ],
   "source": [
    "# Checking how many missing values are present in each column\n",
    "df.isnull().sum()"
   ]
  },
  {
   "cell_type": "code",
   "execution_count": 8,
   "id": "d27700e2",
   "metadata": {},
   "outputs": [
    {
     "data": {
      "text/plain": [
       "Legacy_Customer_ID     object\n",
       "Age                   float64\n",
       "Employment_Type        object\n",
       "Education_Level        object\n",
       "Annual_Income($)      float64\n",
       "Credit_Score          float64\n",
       "Region                 object\n",
       "Account_Type           object\n",
       "Customer_Feedback      object\n",
       "CLV_Score             float64\n",
       "Complaint_Count         int64\n",
       "Contact_Preference     object\n",
       "Subscription_Tier      object\n",
       "Target                  int64\n",
       "dtype: object"
      ]
     },
     "execution_count": 8,
     "metadata": {},
     "output_type": "execute_result"
    }
   ],
   "source": [
    "# Viewing the data types of all columns\n",
    "df.dtypes"
   ]
  },
  {
   "cell_type": "code",
   "execution_count": 9,
   "id": "36b4aa13",
   "metadata": {},
   "outputs": [
    {
     "data": {
      "text/plain": [
       "0           NaN\n",
       "1           NaN\n",
       "2           NaN\n",
       "3           NaN\n",
       "4           NaN\n",
       "         ...   \n",
       "4995        NaN\n",
       "4996        NaN\n",
       "4997    ID_XXXX\n",
       "4998        NaN\n",
       "4999        NaN\n",
       "Name: Legacy_Customer_ID, Length: 5000, dtype: object"
      ]
     },
     "execution_count": 9,
     "metadata": {},
     "output_type": "execute_result"
    }
   ],
   "source": [
    "# Inspecting unique identifiers in the Legacy_Customer_ID column\n",
    "df['Legacy_Customer_ID']"
   ]
  },
  {
   "cell_type": "code",
   "execution_count": 10,
   "id": "2e0c64ec",
   "metadata": {},
   "outputs": [],
   "source": [
    "# Non- Nan values are also irrelevant,\n",
    "'Drop the column'\n",
    "df.drop(columns=['Legacy_Customer_ID', 'Customer_Feedback'], axis=1, inplace= True)"
   ]
  },
  {
   "cell_type": "code",
   "execution_count": 11,
   "id": "dde128bf",
   "metadata": {},
   "outputs": [
    {
     "data": {
      "text/plain": [
       "Age                   float64\n",
       "Employment_Type        object\n",
       "Education_Level        object\n",
       "Annual_Income($)      float64\n",
       "Credit_Score          float64\n",
       "Region                 object\n",
       "Account_Type           object\n",
       "CLV_Score             float64\n",
       "Complaint_Count         int64\n",
       "Contact_Preference     object\n",
       "Subscription_Tier      object\n",
       "Target                  int64\n",
       "dtype: object"
      ]
     },
     "execution_count": 11,
     "metadata": {},
     "output_type": "execute_result"
    }
   ],
   "source": [
    "# Viewing the data types of all columns\n",
    "df.dtypes"
   ]
  },
  {
   "cell_type": "code",
   "execution_count": 12,
   "id": "89f7d555",
   "metadata": {},
   "outputs": [],
   "source": [
    "# Filling missing values in 'Age' column using the median age\n",
    "df['Age']= df['Age'].fillna(df['Age'].median())"
   ]
  },
  {
   "cell_type": "code",
   "execution_count": 13,
   "id": "ca71d6e9",
   "metadata": {},
   "outputs": [
    {
     "data": {
      "text/plain": [
       "Age\n",
       "42.0    1520\n",
       "28.0    1004\n",
       "35.0     989\n",
       "50.0     965\n",
       "61.0     522\n",
       "Name: count, dtype: int64"
      ]
     },
     "execution_count": 13,
     "metadata": {},
     "output_type": "execute_result"
    }
   ],
   "source": [
    "# Checking frequency distribution of unique values in the 'Age' column\n",
    "df['Age'].value_counts()"
   ]
  },
  {
   "cell_type": "code",
   "execution_count": null,
   "metadata": {},
   "outputs": [],
   "source": []
  },
  {
   "cell_type": "code",
   "execution_count": 14,
   "id": "7a47c714",
   "metadata": {},
   "outputs": [
    {
     "data": {
      "text/plain": [
       "0       35.0\n",
       "1       35.0\n",
       "2       28.0\n",
       "3       50.0\n",
       "4       42.0\n",
       "        ... \n",
       "4995    50.0\n",
       "4996    28.0\n",
       "4997    28.0\n",
       "4998    50.0\n",
       "4999    35.0\n",
       "Name: Age, Length: 5000, dtype: float64"
      ]
     },
     "execution_count": 14,
     "metadata": {},
     "output_type": "execute_result"
    }
   ],
   "source": [
    "# Viewing the cleaned 'Age' column after filling missing values\n",
    "df['Age']"
   ]
  },
  {
   "cell_type": "code",
   "execution_count": 15,
   "id": "a2179fb9",
   "metadata": {},
   "outputs": [
    {
     "data": {
      "text/plain": [
       "Age                      0\n",
       "Employment_Type        512\n",
       "Education_Level       1050\n",
       "Annual_Income($)         0\n",
       "Credit_Score           339\n",
       "Region                   0\n",
       "Account_Type             0\n",
       "CLV_Score              245\n",
       "Complaint_Count          0\n",
       "Contact_Preference       0\n",
       "Subscription_Tier        0\n",
       "Target                   0\n",
       "dtype: int64"
      ]
     },
     "execution_count": 15,
     "metadata": {},
     "output_type": "execute_result"
    }
   ],
   "source": [
    "# Rechecking for missing values across the dataset\n",
    "df.isnull().sum()"
   ]
  },
  {
   "cell_type": "code",
   "execution_count": 16,
   "id": "4b5d08c6",
   "metadata": {},
   "outputs": [
    {
     "data": {
      "text/plain": [
       "Employment_Type\n",
       "Salaried         1933\n",
       "Freelancer       1057\n",
       "Self-Employed    1008\n",
       "Unemployed        490\n",
       "Name: count, dtype: int64"
      ]
     },
     "execution_count": 16,
     "metadata": {},
     "output_type": "execute_result"
    }
   ],
   "source": [
    "# Viewing count of each category in 'Employment_Type'\n",
    "df['Employment_Type'].value_counts()"
   ]
  },
  {
   "cell_type": "code",
   "execution_count": 17,
   "id": "6e1639e4",
   "metadata": {},
   "outputs": [
    {
     "data": {
      "text/plain": [
       "array(['Self-Employed', 'Freelancer', 'Salaried', nan, 'Unemployed'],\n",
       "      dtype=object)"
      ]
     },
     "execution_count": 17,
     "metadata": {},
     "output_type": "execute_result"
    }
   ],
   "source": [
    "# Listing all unique values in 'Employment_Type' before filling missing ones\n",
    "df['Employment_Type'].unique()"
   ]
  },
  {
   "cell_type": "code",
   "execution_count": 18,
   "metadata": {},
   "outputs": [],
   "source": [
    "# Replacing missing values in 'Employment_Type' with 'Unknown'\n",
    "df['Employment_Type']= df['Employment_Type'].fillna('Unknown')"
   ]
  },
  {
   "cell_type": "code",
   "execution_count": 19,
   "id": "7ee2cd41",
   "metadata": {},
   "outputs": [],
   "source": [
    "# # Numeric columns: median\n",
    "# df['Age']= df['Age'].fillna(df['Age'].median())\n",
    "# df['Credit_Score']= df['Credit_Score'].fillna(df['Credit_Score'].median())\n",
    "# df['CLV_Score']= df['CLV_Score'].fillna(df['CLV_Score'].median())\n",
    "\n",
    "# # Categorical columns: 'Unknown'\n",
    "# df['Employment_Type']= df['Employment_Type'].fillna('Unknown')\n",
    "# df['Education_Level']= df['Education_Level'].fillna('Unknown')"
   ]
  },
  {
   "cell_type": "code",
   "execution_count": 20,
   "id": "369a8480",
   "metadata": {},
   "outputs": [
    {
     "data": {
      "text/plain": [
       "array(['Self-Employed', 'Freelancer', 'Salaried', 'Unknown', 'Unemployed'],\n",
       "      dtype=object)"
      ]
     },
     "execution_count": 20,
     "metadata": {},
     "output_type": "execute_result"
    }
   ],
   "source": [
    "# Verifying unique values after filling missing entries\n",
    "df['Employment_Type'].unique()"
   ]
  },
  {
   "cell_type": "code",
   "execution_count": 21,
   "id": "7d034d01",
   "metadata": {},
   "outputs": [
    {
     "data": {
      "text/plain": [
       "Employment_Type\n",
       "Salaried         1933\n",
       "Freelancer       1057\n",
       "Self-Employed    1008\n",
       "Unknown           512\n",
       "Unemployed        490\n",
       "Name: count, dtype: int64"
      ]
     },
     "execution_count": 21,
     "metadata": {},
     "output_type": "execute_result"
    }
   ],
   "source": [
    "# Checking updated count distribution after handling missing values\n",
    "df['Employment_Type'].value_counts()"
   ]
  },
  {
   "cell_type": "code",
   "execution_count": 22,
   "id": "bdde939e",
   "metadata": {},
   "outputs": [],
   "source": [
    "from sklearn.preprocessing import LabelEncoder\n",
    "le = LabelEncoder()\n",
    "df['Employment_Type'] = le.fit_transform(df['Employment_Type'])"
   ]
  },
  {
   "cell_type": "code",
   "execution_count": 23,
   "id": "1beb3512",
   "metadata": {},
   "outputs": [
    {
     "data": {
      "text/plain": [
       "Employment_Type\n",
       "1    1933\n",
       "0    1057\n",
       "2    1008\n",
       "4     512\n",
       "3     490\n",
       "Name: count, dtype: int64"
      ]
     },
     "execution_count": 23,
     "metadata": {},
     "output_type": "execute_result"
    }
   ],
   "source": [
    "df['Employment_Type'].value_counts()"
   ]
  },
  {
   "cell_type": "code",
   "execution_count": 24,
   "id": "2e78bb61",
   "metadata": {},
   "outputs": [
    {
     "data": {
      "text/plain": [
       "array(['Master', 'High School', 'Associate', 'Bachelor', nan, 'PhD'],\n",
       "      dtype=object)"
      ]
     },
     "execution_count": 24,
     "metadata": {},
     "output_type": "execute_result"
    }
   ],
   "source": [
    "df['Education_Level'].unique()"
   ]
  },
  {
   "cell_type": "code",
   "execution_count": 25,
   "id": "659f5291",
   "metadata": {},
   "outputs": [
    {
     "data": {
      "text/plain": [
       "Education_Level\n",
       "High School    1291\n",
       "Bachelor        910\n",
       "Associate       859\n",
       "Master          683\n",
       "PhD             207\n",
       "Name: count, dtype: int64"
      ]
     },
     "execution_count": 25,
     "metadata": {},
     "output_type": "execute_result"
    }
   ],
   "source": [
    "df['Education_Level'].value_counts()"
   ]
  },
  {
   "cell_type": "code",
   "execution_count": 26,
   "id": "1ae08c89",
   "metadata": {},
   "outputs": [],
   "source": [
    "df['Education_Level']= df['Education_Level'].fillna('Unknown')"
   ]
  },
  {
   "cell_type": "code",
   "execution_count": 27,
   "id": "b7051309",
   "metadata": {},
   "outputs": [],
   "source": [
    "from sklearn.preprocessing import LabelEncoder\n",
    "lbl= LabelEncoder()\n",
    "df['Education_Level']= lbl.fit_transform(df['Education_Level'])"
   ]
  },
  {
   "cell_type": "code",
   "execution_count": 28,
   "id": "3f862016",
   "metadata": {},
   "outputs": [
    {
     "data": {
      "text/plain": [
       "array([3, 2, 0, 1, 5, 4])"
      ]
     },
     "execution_count": 28,
     "metadata": {},
     "output_type": "execute_result"
    }
   ],
   "source": [
    "df['Education_Level'].unique()\n",
    "# ['Master', 'High School', 'Associate', 'Bachelor', 'Nan', 'PhD']"
   ]
  },
  {
   "cell_type": "code",
   "execution_count": 29,
   "metadata": {},
   "outputs": [
    {
     "data": {
      "text/plain": [
       "Education_Level\n",
       "2    1291\n",
       "5    1050\n",
       "1     910\n",
       "0     859\n",
       "3     683\n",
       "4     207\n",
       "Name: count, dtype: int64"
      ]
     },
     "execution_count": 29,
     "metadata": {},
     "output_type": "execute_result"
    }
   ],
   "source": [
    "df['Education_Level'].value_counts()"
   ]
  },
  {
   "cell_type": "code",
   "execution_count": 30,
   "id": "75f89223",
   "metadata": {},
   "outputs": [],
   "source": [
    "df['Credit_Score']= df['Credit_Score'].fillna(df['Credit_Score'].median())"
   ]
  },
  {
   "cell_type": "code",
   "execution_count": 31,
   "metadata": {},
   "outputs": [],
   "source": [
    "df['CLV_Score']= df['CLV_Score'].fillna(df['CLV_Score'].median())"
   ]
  },
  {
   "cell_type": "code",
   "execution_count": 32,
   "id": "c79438b1",
   "metadata": {},
   "outputs": [
    {
     "data": {
      "text/plain": [
       "Age                   float64\n",
       "Employment_Type         int64\n",
       "Education_Level         int64\n",
       "Annual_Income($)      float64\n",
       "Credit_Score          float64\n",
       "Region                 object\n",
       "Account_Type           object\n",
       "CLV_Score             float64\n",
       "Complaint_Count         int64\n",
       "Contact_Preference     object\n",
       "Subscription_Tier      object\n",
       "Target                  int64\n",
       "dtype: object"
      ]
     },
     "execution_count": 32,
     "metadata": {},
     "output_type": "execute_result"
    }
   ],
   "source": [
    "df.dtypes"
   ]
  },
  {
   "cell_type": "code",
   "execution_count": 33,
   "id": "1b378901",
   "metadata": {},
   "outputs": [],
   "source": [
    "from sklearn.preprocessing import LabelEncoder\n",
    "le= LabelEncoder()\n",
    "features= ['Region', 'Account_Type', 'Contact_Preference', 'Subscription_Tier']\n",
    "for i in features:\n",
    "    df[i]=le.fit_transform(df[i])"
   ]
  },
  {
   "cell_type": "code",
   "execution_count": 34,
   "metadata": {},
   "outputs": [
    {
     "name": "stdout",
     "output_type": "stream",
     "text": [
      "Region : [2 0 3 1]\n",
      "-------------------------------------------\n",
      "Account_Type : [0 2 1]\n",
      "-------------------------------------------\n",
      "Contact_Preference : [3 2 1 0]\n",
      "-------------------------------------------\n",
      "Subscription_Tier : [0 1 2]\n",
      "-------------------------------------------\n"
     ]
    }
   ],
   "source": [
    "for i in features:\n",
    "    print(i,':', df[i].unique())\n",
    "    print(\"-------------------------------------------\")"
   ]
  },
  {
   "cell_type": "code",
   "execution_count": 35,
   "id": "5482f632",
   "metadata": {},
   "outputs": [
    {
     "data": {
      "text/plain": [
       "Age                   float64\n",
       "Employment_Type         int64\n",
       "Education_Level         int64\n",
       "Annual_Income($)      float64\n",
       "Credit_Score          float64\n",
       "Region                  int64\n",
       "Account_Type            int64\n",
       "CLV_Score             float64\n",
       "Complaint_Count         int64\n",
       "Contact_Preference      int64\n",
       "Subscription_Tier       int64\n",
       "Target                  int64\n",
       "dtype: object"
      ]
     },
     "execution_count": 35,
     "metadata": {},
     "output_type": "execute_result"
    }
   ],
   "source": [
    "df.dtypes"
   ]
  },
  {
   "cell_type": "code",
   "execution_count": 36,
   "id": "ef410720",
   "metadata": {},
   "outputs": [
    {
     "data": {
      "text/plain": [
       "Age                   0\n",
       "Employment_Type       0\n",
       "Education_Level       0\n",
       "Annual_Income($)      0\n",
       "Credit_Score          0\n",
       "Region                0\n",
       "Account_Type          0\n",
       "CLV_Score             0\n",
       "Complaint_Count       0\n",
       "Contact_Preference    0\n",
       "Subscription_Tier     0\n",
       "Target                0\n",
       "dtype: int64"
      ]
     },
     "execution_count": 36,
     "metadata": {},
     "output_type": "execute_result"
    }
   ],
   "source": [
    "df.isnull().sum()"
   ]
  },
  {
   "cell_type": "code",
   "execution_count": 37,
   "id": "c55cfb4d",
   "metadata": {},
   "outputs": [],
   "source": [
    "X= df.iloc[:,:-1]\n",
    "y= df['Target']"
   ]
  },
  {
   "cell_type": "code",
   "execution_count": 38,
   "id": "c4d36174",
   "metadata": {},
   "outputs": [],
   "source": [
    "from sklearn.model_selection import train_test_split\n",
    "X_train, X_test, y_train, y_test = train_test_split(X, y, test_size=0.25, random_state=32)"
   ]
  },
  {
   "cell_type": "code",
   "execution_count": 39,
   "id": "8e4129c9",
   "metadata": {},
   "outputs": [],
   "source": [
    "from sklearn.ensemble import RandomForestClassifier\n",
    "from sklearn.linear_model import LogisticRegression\n",
    "from sklearn.tree import DecisionTreeClassifier\n",
    "from sklearn.metrics import accuracy_score, classification_report"
   ]
  },
  {
   "cell_type": "code",
   "execution_count": 40,
   "id": "789ce947",
   "metadata": {},
   "outputs": [
    {
     "name": "stdout",
     "output_type": "stream",
     "text": [
      "Accuracy for rf:  0.5568\n",
      "              precision    recall  f1-score   support\n",
      "\n",
      "           0       0.58      0.87      0.70       730\n",
      "           1       0.39      0.12      0.19       520\n",
      "\n",
      "    accuracy                           0.56      1250\n",
      "   macro avg       0.49      0.49      0.44      1250\n",
      "weighted avg       0.50      0.56      0.48      1250\n",
      "\n"
     ]
    }
   ],
   "source": [
    "#Random Forest Classifier Model\n",
    "rf_m = RandomForestClassifier()\n",
    "rf_m.fit(X_train, y_train)\n",
    "y_pred= rf_m.predict(X_test)\n",
    "acc_rf=accuracy_score(y_test,y_pred)\n",
    "c_rf= classification_report(y_test,y_pred)\n",
    "print(\"Accuracy for rf: \",acc_rf)\n",
    "print(c_rf)"
   ]
  }
 ],
 "metadata": {
  "kernelspec": {
   "display_name": "base",
   "language": "python",
   "name": "python3"
  },
  "language_info": {
   "codemirror_mode": {
    "name": "ipython",
    "version": 3
   },
   "file_extension": ".py",
   "mimetype": "text/x-python",
   "name": "python",
   "nbconvert_exporter": "python",
   "pygments_lexer": "ipython3",
   "version": "3.12.8"
  }
 },
 "nbformat": 4,
 "nbformat_minor": 5
}
